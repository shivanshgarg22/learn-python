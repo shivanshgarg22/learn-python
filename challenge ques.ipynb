{
  "nbformat": 4,
  "nbformat_minor": 0,
  "metadata": {
    "colab": {
      "provenance": [],
      "authorship_tag": "ABX9TyOwkZJGSQXGyVnoKBllNZd5",
      "include_colab_link": true
    },
    "kernelspec": {
      "name": "python3",
      "display_name": "Python 3"
    },
    "language_info": {
      "name": "python"
    }
  },
  "cells": [
    {
      "cell_type": "markdown",
      "metadata": {
        "id": "view-in-github",
        "colab_type": "text"
      },
      "source": [
        "<a href=\"https://colab.research.google.com/github/shivanshgarg22/learn-python/blob/main/challenge%20ques.ipynb\" target=\"_parent\"><img src=\"https://colab.research.google.com/assets/colab-badge.svg\" alt=\"Open In Colab\"/></a>"
      ]
    },
    {
      "cell_type": "code",
      "execution_count": null,
      "metadata": {
        "colab": {
          "base_uri": "https://localhost:8080/"
        },
        "id": "9kZEOHR3t33U",
        "outputId": "5c011f55-52be-46ae-e32d-4252bd29c428"
      },
      "outputs": [
        {
          "output_type": "stream",
          "name": "stdout",
          "text": [
            "['1', '2', '3', 'Aman', 'Ram', 'Shyam']\n",
            "[1, 2, 3, 'Aman', 'Ram', 'Shyam']\n"
          ]
        }
      ],
      "source": [
        "L=[\"Ram\", 1, \"Shyam\", 2, \"Aman\", 3]\n",
        "L=[ str(i) for i in L]\n",
        "L.sort()\n",
        "print(L)\n",
        "L1=[]\n",
        "for i in L:\n",
        "    try:\n",
        "        L1.append(int(i))\n",
        "    except:\n",
        "        L1.append(i)\n",
        "print(L1)"
      ]
    }
  ]
}